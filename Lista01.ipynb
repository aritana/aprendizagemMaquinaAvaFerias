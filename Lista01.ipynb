{
 "cells": [
  {
   "cell_type": "markdown",
   "metadata": {},
   "source": [
    "Função Maior\n",
    "maior(a,b): Retorna o maior valor entre a e b)\n"
   ]
  },
  {
   "cell_type": "code",
   "execution_count": 7,
   "metadata": {},
   "outputs": [
    {
     "name": "stdout",
     "output_type": "stream",
     "text": [
      "8\n"
     ]
    }
   ],
   "source": [
    "def maior(a,b):\n",
    "    c = a\n",
    "    if b > a:\n",
    "        c = b\n",
    "    return c\n",
    "if __name__ == \"__main__\":\n",
    "    x = maior(8,6)\n",
    "    print(x)"
   ]
  },
  {
   "cell_type": "markdown",
   "metadata": {},
   "source": [
    "Função Soma\n",
    "soma(lista,x): retorna o somatório dos valores passados pela lista. O argumento x deve ser opcional que, se passado, será somado ao resultado final.\n"
   ]
  },
  {
   "cell_type": "code",
   "execution_count": 34,
   "metadata": {},
   "outputs": [
    {
     "name": "stdout",
     "output_type": "stream",
     "text": [
      "7\n"
     ]
    }
   ],
   "source": [
    "def soma( lista, x=0):\n",
    "    soma = 0\n",
    "    for valor in lista:\n",
    "        soma += valor\n",
    "    return soma + x  \n",
    "if __name__ == \"__main__\":\n",
    "    lista =[1,2,3]  \n",
    "    x = 1\n",
    "    print (soma(lista,x))"
   ]
  },
  {
   "cell_type": "markdown",
   "metadata": {},
   "source": [
    "Função Média\n",
    "media(lista): Retorna a média dos valores passados pela lista."
   ]
  },
  {
   "cell_type": "code",
   "execution_count": 36,
   "metadata": {},
   "outputs": [
    {
     "name": "stdout",
     "output_type": "stream",
     "text": [
      "4.0\n"
     ]
    }
   ],
   "source": [
    "def media(lista):\n",
    "    return (soma(lista)/len(lista))\n",
    "\n",
    "if __name__ == \"__main__\":\n",
    "    lista =[1,2,9]  \n",
    "    print (media(lista))"
   ]
  },
  {
   "cell_type": "markdown",
   "metadata": {},
   "source": [
    "Função Valores Iguais\n",
    "valores_iguais(lista1,lista2): Retorna uma lista contendo os valores iguais entre as duas listas passadas como parâmetro"
   ]
  },
  {
   "cell_type": "code",
   "execution_count": 39,
   "metadata": {},
   "outputs": [
    {
     "name": "stdout",
     "output_type": "stream",
     "text": [
      "[1, 8]\n"
     ]
    }
   ],
   "source": [
    "def valores_iguais(lista1,lista2):\n",
    "    lista3 = []\n",
    "    for valorLista1 in lista1:\n",
    "        for valorLista2 in lista2:\n",
    "            if valorLista1 == valorLista2:\n",
    "                lista3.append(valorLista1)\n",
    "    return lista3\n",
    "\n",
    "if __name__ == \"__main__\":\n",
    "    lista1 =[1,2,9,8]  \n",
    "    lista2 =[1,42,39,8]  \n",
    "    print (valores_iguais(lista1,lista2))\n",
    "            "
   ]
  },
  {
   "cell_type": "markdown",
   "metadata": {},
   "source": [
    "Função Indice_prim_valor_igual\n",
    "indice_prim_valor_igual(lista1,lista2): retorna a posição na lista1 do primeiro valor igual ao da lista2. Caso não exista, é retornado None."
   ]
  },
  {
   "cell_type": "code",
   "execution_count": 50,
   "metadata": {},
   "outputs": [
    {
     "name": "stdout",
     "output_type": "stream",
     "text": [
      "1\n"
     ]
    }
   ],
   "source": [
    "def indice_prim_valor_igual(lista1,lista2):\n",
    "    for valorLista2 in lista2:\n",
    "        for i,valorLista1 in enumerate(lista1):\n",
    "            if valorLista2 == valorLista1:\n",
    "                return i        \n",
    "    return None\n",
    "            \n",
    "if __name__ == \"__main__\":\n",
    "    lista1 =[0,2,9,8]  \n",
    "    lista2 =[1,2,39,8]  \n",
    "    print (indice_prim_valor_igual(lista1,lista2))"
   ]
  },
  {
   "cell_type": "code",
   "execution_count": null,
   "metadata": {},
   "outputs": [],
   "source": []
  }
 ],
 "metadata": {
  "kernelspec": {
   "display_name": "Python 3",
   "language": "python",
   "name": "python3"
  },
  "language_info": {
   "codemirror_mode": {
    "name": "ipython",
    "version": 3
   },
   "file_extension": ".py",
   "mimetype": "text/x-python",
   "name": "python",
   "nbconvert_exporter": "python",
   "pygments_lexer": "ipython3",
   "version": "3.7.6"
  }
 },
 "nbformat": 4,
 "nbformat_minor": 4
}
